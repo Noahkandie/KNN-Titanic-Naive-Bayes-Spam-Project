{
  "nbformat": 4,
  "nbformat_minor": 0,
  "metadata": {
    "colab": {
      "name": "Titanic Survival Prediction.ipynb",
      "provenance": [],
      "collapsed_sections": [],
      "toc_visible": true,
      "authorship_tag": "ABX9TyNHOdZybQRPqPCJ8w5/+0K5",
      "include_colab_link": true
    },
    "kernelspec": {
      "name": "python3",
      "display_name": "Python 3"
    },
    "language_info": {
      "name": "python"
    }
  },
  "cells": [
    {
      "cell_type": "markdown",
      "metadata": {
        "id": "view-in-github",
        "colab_type": "text"
      },
      "source": [
        "<a href=\"https://colab.research.google.com/github/Noahkandie/KNN-Titanic-Naive-Bayes-Spam-Project/blob/main/Titanic_Survival_Prediction.ipynb\" target=\"_parent\"><img src=\"https://colab.research.google.com/assets/colab-badge.svg\" alt=\"Open In Colab\"/></a>"
      ]
    },
    {
      "cell_type": "markdown",
      "metadata": {
        "id": "U27G44eWv0fN"
      },
      "source": [
        "# Titanic Survival Prediction"
      ]
    },
    {
      "cell_type": "markdown",
      "metadata": {
        "id": "irPFEhJmv-_H"
      },
      "source": [
        "## Overview\n",
        "This week's project requires us to implement a K-nearest neighbor (KNN) classifier on the Titanic dataset. Once we conduct the experiments, we will calculate the resulting metrics"
      ]
    },
    {
      "cell_type": "markdown",
      "metadata": {
        "id": "78RnGkVBwH4W"
      },
      "source": [
        "## Research Question\n",
        "We are expected to use KNN to predict survival rate based on given features in the titanic ship"
      ]
    },
    {
      "cell_type": "markdown",
      "metadata": {
        "id": "iPRsUKYLwVJQ"
      },
      "source": [
        "##Metric for success\n",
        "The project will be a success if we are able to create a model that will accurately determine whether or not a passenger survives or not given their specific features in the titanic ship. We will use accuracy score, ROC score ,confusion matrix and classification report as the metrics for testing perfomance of our models"
      ]
    },
    {
      "cell_type": "markdown",
      "metadata": {
        "id": "1JSab8anwj6I"
      },
      "source": [
        "## Understanding the context\n",
        "\n",
        "The RMS Titanic was a British passenger liner that sank in the North Atlantic Ocean in the early morning hours of 15 April 1912, after it collided with an iceberg during its maiden voyage from Southampton to New York City. This unfortunate incident resulted in the death of 1502 out of 2224 passengers and crew. While there was some element of luck involved in surviving, it seems some groups of people were more likely to survive than others. In this analysis we will explore the data to understand which group of people had a better chance at surviving and then later build a model to predict what sorts of people were more likely to survive using passenger data (ie name, age, gender, socio-economic class, etc)"
      ]
    },
    {
      "cell_type": "markdown",
      "metadata": {
        "id": "QFgE-7_Bwp_i"
      },
      "source": [
        "Experimental Design\n",
        "\n",
        "    1. Prepare dataset(s) and clean them\n",
        "    2. Carry out exhaustive EDA\n",
        "    3. Carry out modelling using KNN\n",
        "    4. Optimize the KNN model\n",
        "    5. Challenge the Solution\n",
        "    6. Document everything"
      ]
    },
    {
      "cell_type": "markdown",
      "metadata": {
        "id": "cTdYie5Gw3BS"
      },
      "source": [
        "\n",
        "\n",
        "The data provided is split into:\n",
        "\n",
        "- Train set\n",
        "- Test set\n",
        "\n",
        "The Train dataset contains our target variable,survived and features, i.e passenger data. The Test set contains passenger information only. We will use training set to build our K-NN models. We will use the Test set to see how well your model performs on unseen data."
      ]
    },
    {
      "cell_type": "markdown",
      "metadata": {
        "id": "kClGs_yixL_G"
      },
      "source": [
        "## Load libraries and Read data"
      ]
    },
    {
      "cell_type": "code",
      "metadata": {
        "id": "IZPbVEySsmAt"
      },
      "source": [
        "import pandas as pd\n",
        "import numpy as np\n",
        "import matplotlib.pyplot as plt\n",
        "import seaborn as sns\n",
        "import scipy.stats as stats\n",
        "import warnings\n",
        "warnings.simplefilter(action='ignore', category=FutureWarning)"
      ],
      "execution_count": 1,
      "outputs": []
    },
    {
      "cell_type": "code",
      "metadata": {
        "id": "o_Gaxx2y5PvD"
      },
      "source": [
        "# Loading the Data \n",
        "test = pd.read_csv(\"/content/test.csv\")\n",
        "train = pd.read_csv(\"/content/train.csv\")"
      ],
      "execution_count": 2,
      "outputs": []
    },
    {
      "cell_type": "code",
      "metadata": {
        "colab": {
          "base_uri": "https://localhost:8080/"
        },
        "id": "zhQNHdwD5Vym",
        "outputId": "d307b785-d377-4563-ab5e-9b090d0e0c24"
      },
      "source": [
        "# Checking the info on both datasets\n",
        "print('train',train.info())\n",
        "print('\\n')\n",
        "print('**************************')\n",
        "print('test',test.info())"
      ],
      "execution_count": 3,
      "outputs": [
        {
          "output_type": "stream",
          "text": [
            "<class 'pandas.core.frame.DataFrame'>\n",
            "RangeIndex: 891 entries, 0 to 890\n",
            "Data columns (total 12 columns):\n",
            " #   Column       Non-Null Count  Dtype  \n",
            "---  ------       --------------  -----  \n",
            " 0   PassengerId  891 non-null    int64  \n",
            " 1   Survived     891 non-null    int64  \n",
            " 2   Pclass       891 non-null    int64  \n",
            " 3   Name         891 non-null    object \n",
            " 4   Sex          891 non-null    object \n",
            " 5   Age          714 non-null    float64\n",
            " 6   SibSp        891 non-null    int64  \n",
            " 7   Parch        891 non-null    int64  \n",
            " 8   Ticket       891 non-null    object \n",
            " 9   Fare         891 non-null    float64\n",
            " 10  Cabin        204 non-null    object \n",
            " 11  Embarked     889 non-null    object \n",
            "dtypes: float64(2), int64(5), object(5)\n",
            "memory usage: 83.7+ KB\n",
            "train None\n",
            "\n",
            "\n",
            "**************************\n",
            "<class 'pandas.core.frame.DataFrame'>\n",
            "RangeIndex: 418 entries, 0 to 417\n",
            "Data columns (total 11 columns):\n",
            " #   Column       Non-Null Count  Dtype  \n",
            "---  ------       --------------  -----  \n",
            " 0   PassengerId  418 non-null    int64  \n",
            " 1   Pclass       418 non-null    int64  \n",
            " 2   Name         418 non-null    object \n",
            " 3   Sex          418 non-null    object \n",
            " 4   Age          332 non-null    float64\n",
            " 5   SibSp        418 non-null    int64  \n",
            " 6   Parch        418 non-null    int64  \n",
            " 7   Ticket       418 non-null    object \n",
            " 8   Fare         417 non-null    float64\n",
            " 9   Cabin        91 non-null     object \n",
            " 10  Embarked     418 non-null    object \n",
            "dtypes: float64(2), int64(4), object(5)\n",
            "memory usage: 36.0+ KB\n",
            "test None\n"
          ],
          "name": "stdout"
        }
      ]
    },
    {
      "cell_type": "markdown",
      "metadata": {
        "id": "eP-Ff_vg5_F3"
      },
      "source": [
        "We can see missing values in several columns and note that Survived column is not in the test dataset. We also note the different datatypes e.g. we will need to change datatypes"
      ]
    },
    {
      "cell_type": "code",
      "metadata": {
        "colab": {
          "base_uri": "https://localhost:8080/",
          "height": 496
        },
        "id": "_lGZ8oAe6V6J",
        "outputId": "905001c8-0713-487e-919d-2491f62658f2"
      },
      "source": [
        "# Previewing the top of our datasets\n",
        "train.head()\n",
        "\n"
      ],
      "execution_count": 4,
      "outputs": [
        {
          "output_type": "execute_result",
          "data": {
            "text/html": [
              "<div>\n",
              "<style scoped>\n",
              "    .dataframe tbody tr th:only-of-type {\n",
              "        vertical-align: middle;\n",
              "    }\n",
              "\n",
              "    .dataframe tbody tr th {\n",
              "        vertical-align: top;\n",
              "    }\n",
              "\n",
              "    .dataframe thead th {\n",
              "        text-align: right;\n",
              "    }\n",
              "</style>\n",
              "<table border=\"1\" class=\"dataframe\">\n",
              "  <thead>\n",
              "    <tr style=\"text-align: right;\">\n",
              "      <th></th>\n",
              "      <th>PassengerId</th>\n",
              "      <th>Survived</th>\n",
              "      <th>Pclass</th>\n",
              "      <th>Name</th>\n",
              "      <th>Sex</th>\n",
              "      <th>Age</th>\n",
              "      <th>SibSp</th>\n",
              "      <th>Parch</th>\n",
              "      <th>Ticket</th>\n",
              "      <th>Fare</th>\n",
              "      <th>Cabin</th>\n",
              "      <th>Embarked</th>\n",
              "    </tr>\n",
              "  </thead>\n",
              "  <tbody>\n",
              "    <tr>\n",
              "      <th>0</th>\n",
              "      <td>1</td>\n",
              "      <td>0</td>\n",
              "      <td>3</td>\n",
              "      <td>Braund, Mr. Owen Harris</td>\n",
              "      <td>male</td>\n",
              "      <td>22.0</td>\n",
              "      <td>1</td>\n",
              "      <td>0</td>\n",
              "      <td>A/5 21171</td>\n",
              "      <td>7.2500</td>\n",
              "      <td>NaN</td>\n",
              "      <td>S</td>\n",
              "    </tr>\n",
              "    <tr>\n",
              "      <th>1</th>\n",
              "      <td>2</td>\n",
              "      <td>1</td>\n",
              "      <td>1</td>\n",
              "      <td>Cumings, Mrs. John Bradley (Florence Briggs Th...</td>\n",
              "      <td>female</td>\n",
              "      <td>38.0</td>\n",
              "      <td>1</td>\n",
              "      <td>0</td>\n",
              "      <td>PC 17599</td>\n",
              "      <td>71.2833</td>\n",
              "      <td>C85</td>\n",
              "      <td>C</td>\n",
              "    </tr>\n",
              "    <tr>\n",
              "      <th>2</th>\n",
              "      <td>3</td>\n",
              "      <td>1</td>\n",
              "      <td>3</td>\n",
              "      <td>Heikkinen, Miss. Laina</td>\n",
              "      <td>female</td>\n",
              "      <td>26.0</td>\n",
              "      <td>0</td>\n",
              "      <td>0</td>\n",
              "      <td>STON/O2. 3101282</td>\n",
              "      <td>7.9250</td>\n",
              "      <td>NaN</td>\n",
              "      <td>S</td>\n",
              "    </tr>\n",
              "    <tr>\n",
              "      <th>3</th>\n",
              "      <td>4</td>\n",
              "      <td>1</td>\n",
              "      <td>1</td>\n",
              "      <td>Futrelle, Mrs. Jacques Heath (Lily May Peel)</td>\n",
              "      <td>female</td>\n",
              "      <td>35.0</td>\n",
              "      <td>1</td>\n",
              "      <td>0</td>\n",
              "      <td>113803</td>\n",
              "      <td>53.1000</td>\n",
              "      <td>C123</td>\n",
              "      <td>S</td>\n",
              "    </tr>\n",
              "    <tr>\n",
              "      <th>4</th>\n",
              "      <td>5</td>\n",
              "      <td>0</td>\n",
              "      <td>3</td>\n",
              "      <td>Allen, Mr. William Henry</td>\n",
              "      <td>male</td>\n",
              "      <td>35.0</td>\n",
              "      <td>0</td>\n",
              "      <td>0</td>\n",
              "      <td>373450</td>\n",
              "      <td>8.0500</td>\n",
              "      <td>NaN</td>\n",
              "      <td>S</td>\n",
              "    </tr>\n",
              "  </tbody>\n",
              "</table>\n",
              "</div>"
            ],
            "text/plain": [
              "   PassengerId  Survived  Pclass  ...     Fare Cabin  Embarked\n",
              "0            1         0       3  ...   7.2500   NaN         S\n",
              "1            2         1       1  ...  71.2833   C85         C\n",
              "2            3         1       3  ...   7.9250   NaN         S\n",
              "3            4         1       1  ...  53.1000  C123         S\n",
              "4            5         0       3  ...   8.0500   NaN         S\n",
              "\n",
              "[5 rows x 12 columns]"
            ]
          },
          "metadata": {
            "tags": []
          },
          "execution_count": 4
        }
      ]
    },
    {
      "cell_type": "code",
      "metadata": {
        "colab": {
          "base_uri": "https://localhost:8080/",
          "height": 445
        },
        "id": "2_ORWpSF7CZ7",
        "outputId": "44e10760-551f-4397-c10c-7e60f6bf5c10"
      },
      "source": [
        "test.head()"
      ],
      "execution_count": 5,
      "outputs": [
        {
          "output_type": "execute_result",
          "data": {
            "text/html": [
              "<div>\n",
              "<style scoped>\n",
              "    .dataframe tbody tr th:only-of-type {\n",
              "        vertical-align: middle;\n",
              "    }\n",
              "\n",
              "    .dataframe tbody tr th {\n",
              "        vertical-align: top;\n",
              "    }\n",
              "\n",
              "    .dataframe thead th {\n",
              "        text-align: right;\n",
              "    }\n",
              "</style>\n",
              "<table border=\"1\" class=\"dataframe\">\n",
              "  <thead>\n",
              "    <tr style=\"text-align: right;\">\n",
              "      <th></th>\n",
              "      <th>PassengerId</th>\n",
              "      <th>Pclass</th>\n",
              "      <th>Name</th>\n",
              "      <th>Sex</th>\n",
              "      <th>Age</th>\n",
              "      <th>SibSp</th>\n",
              "      <th>Parch</th>\n",
              "      <th>Ticket</th>\n",
              "      <th>Fare</th>\n",
              "      <th>Cabin</th>\n",
              "      <th>Embarked</th>\n",
              "    </tr>\n",
              "  </thead>\n",
              "  <tbody>\n",
              "    <tr>\n",
              "      <th>0</th>\n",
              "      <td>892</td>\n",
              "      <td>3</td>\n",
              "      <td>Kelly, Mr. James</td>\n",
              "      <td>male</td>\n",
              "      <td>34.5</td>\n",
              "      <td>0</td>\n",
              "      <td>0</td>\n",
              "      <td>330911</td>\n",
              "      <td>7.8292</td>\n",
              "      <td>NaN</td>\n",
              "      <td>Q</td>\n",
              "    </tr>\n",
              "    <tr>\n",
              "      <th>1</th>\n",
              "      <td>893</td>\n",
              "      <td>3</td>\n",
              "      <td>Wilkes, Mrs. James (Ellen Needs)</td>\n",
              "      <td>female</td>\n",
              "      <td>47.0</td>\n",
              "      <td>1</td>\n",
              "      <td>0</td>\n",
              "      <td>363272</td>\n",
              "      <td>7.0000</td>\n",
              "      <td>NaN</td>\n",
              "      <td>S</td>\n",
              "    </tr>\n",
              "    <tr>\n",
              "      <th>2</th>\n",
              "      <td>894</td>\n",
              "      <td>2</td>\n",
              "      <td>Myles, Mr. Thomas Francis</td>\n",
              "      <td>male</td>\n",
              "      <td>62.0</td>\n",
              "      <td>0</td>\n",
              "      <td>0</td>\n",
              "      <td>240276</td>\n",
              "      <td>9.6875</td>\n",
              "      <td>NaN</td>\n",
              "      <td>Q</td>\n",
              "    </tr>\n",
              "    <tr>\n",
              "      <th>3</th>\n",
              "      <td>895</td>\n",
              "      <td>3</td>\n",
              "      <td>Wirz, Mr. Albert</td>\n",
              "      <td>male</td>\n",
              "      <td>27.0</td>\n",
              "      <td>0</td>\n",
              "      <td>0</td>\n",
              "      <td>315154</td>\n",
              "      <td>8.6625</td>\n",
              "      <td>NaN</td>\n",
              "      <td>S</td>\n",
              "    </tr>\n",
              "    <tr>\n",
              "      <th>4</th>\n",
              "      <td>896</td>\n",
              "      <td>3</td>\n",
              "      <td>Hirvonen, Mrs. Alexander (Helga E Lindqvist)</td>\n",
              "      <td>female</td>\n",
              "      <td>22.0</td>\n",
              "      <td>1</td>\n",
              "      <td>1</td>\n",
              "      <td>3101298</td>\n",
              "      <td>12.2875</td>\n",
              "      <td>NaN</td>\n",
              "      <td>S</td>\n",
              "    </tr>\n",
              "  </tbody>\n",
              "</table>\n",
              "</div>"
            ],
            "text/plain": [
              "   PassengerId  Pclass  ... Cabin Embarked\n",
              "0          892       3  ...   NaN        Q\n",
              "1          893       3  ...   NaN        S\n",
              "2          894       2  ...   NaN        Q\n",
              "3          895       3  ...   NaN        S\n",
              "4          896       3  ...   NaN        S\n",
              "\n",
              "[5 rows x 11 columns]"
            ]
          },
          "metadata": {
            "tags": []
          },
          "execution_count": 5
        }
      ]
    },
    {
      "cell_type": "code",
      "metadata": {
        "colab": {
          "base_uri": "https://localhost:8080/",
          "height": 445
        },
        "id": "2LDOj0OB7EwL",
        "outputId": "52d0d39f-57ae-4f3d-bba4-caa59832d0fc"
      },
      "source": [
        "# Previewing the bottom of our dataset\n",
        "train.tail()"
      ],
      "execution_count": 6,
      "outputs": [
        {
          "output_type": "execute_result",
          "data": {
            "text/html": [
              "<div>\n",
              "<style scoped>\n",
              "    .dataframe tbody tr th:only-of-type {\n",
              "        vertical-align: middle;\n",
              "    }\n",
              "\n",
              "    .dataframe tbody tr th {\n",
              "        vertical-align: top;\n",
              "    }\n",
              "\n",
              "    .dataframe thead th {\n",
              "        text-align: right;\n",
              "    }\n",
              "</style>\n",
              "<table border=\"1\" class=\"dataframe\">\n",
              "  <thead>\n",
              "    <tr style=\"text-align: right;\">\n",
              "      <th></th>\n",
              "      <th>PassengerId</th>\n",
              "      <th>Survived</th>\n",
              "      <th>Pclass</th>\n",
              "      <th>Name</th>\n",
              "      <th>Sex</th>\n",
              "      <th>Age</th>\n",
              "      <th>SibSp</th>\n",
              "      <th>Parch</th>\n",
              "      <th>Ticket</th>\n",
              "      <th>Fare</th>\n",
              "      <th>Cabin</th>\n",
              "      <th>Embarked</th>\n",
              "    </tr>\n",
              "  </thead>\n",
              "  <tbody>\n",
              "    <tr>\n",
              "      <th>886</th>\n",
              "      <td>887</td>\n",
              "      <td>0</td>\n",
              "      <td>2</td>\n",
              "      <td>Montvila, Rev. Juozas</td>\n",
              "      <td>male</td>\n",
              "      <td>27.0</td>\n",
              "      <td>0</td>\n",
              "      <td>0</td>\n",
              "      <td>211536</td>\n",
              "      <td>13.00</td>\n",
              "      <td>NaN</td>\n",
              "      <td>S</td>\n",
              "    </tr>\n",
              "    <tr>\n",
              "      <th>887</th>\n",
              "      <td>888</td>\n",
              "      <td>1</td>\n",
              "      <td>1</td>\n",
              "      <td>Graham, Miss. Margaret Edith</td>\n",
              "      <td>female</td>\n",
              "      <td>19.0</td>\n",
              "      <td>0</td>\n",
              "      <td>0</td>\n",
              "      <td>112053</td>\n",
              "      <td>30.00</td>\n",
              "      <td>B42</td>\n",
              "      <td>S</td>\n",
              "    </tr>\n",
              "    <tr>\n",
              "      <th>888</th>\n",
              "      <td>889</td>\n",
              "      <td>0</td>\n",
              "      <td>3</td>\n",
              "      <td>Johnston, Miss. Catherine Helen \"Carrie\"</td>\n",
              "      <td>female</td>\n",
              "      <td>NaN</td>\n",
              "      <td>1</td>\n",
              "      <td>2</td>\n",
              "      <td>W./C. 6607</td>\n",
              "      <td>23.45</td>\n",
              "      <td>NaN</td>\n",
              "      <td>S</td>\n",
              "    </tr>\n",
              "    <tr>\n",
              "      <th>889</th>\n",
              "      <td>890</td>\n",
              "      <td>1</td>\n",
              "      <td>1</td>\n",
              "      <td>Behr, Mr. Karl Howell</td>\n",
              "      <td>male</td>\n",
              "      <td>26.0</td>\n",
              "      <td>0</td>\n",
              "      <td>0</td>\n",
              "      <td>111369</td>\n",
              "      <td>30.00</td>\n",
              "      <td>C148</td>\n",
              "      <td>C</td>\n",
              "    </tr>\n",
              "    <tr>\n",
              "      <th>890</th>\n",
              "      <td>891</td>\n",
              "      <td>0</td>\n",
              "      <td>3</td>\n",
              "      <td>Dooley, Mr. Patrick</td>\n",
              "      <td>male</td>\n",
              "      <td>32.0</td>\n",
              "      <td>0</td>\n",
              "      <td>0</td>\n",
              "      <td>370376</td>\n",
              "      <td>7.75</td>\n",
              "      <td>NaN</td>\n",
              "      <td>Q</td>\n",
              "    </tr>\n",
              "  </tbody>\n",
              "</table>\n",
              "</div>"
            ],
            "text/plain": [
              "     PassengerId  Survived  Pclass  ...   Fare Cabin  Embarked\n",
              "886          887         0       2  ...  13.00   NaN         S\n",
              "887          888         1       1  ...  30.00   B42         S\n",
              "888          889         0       3  ...  23.45   NaN         S\n",
              "889          890         1       1  ...  30.00  C148         C\n",
              "890          891         0       3  ...   7.75   NaN         Q\n",
              "\n",
              "[5 rows x 12 columns]"
            ]
          },
          "metadata": {
            "tags": []
          },
          "execution_count": 6
        }
      ]
    },
    {
      "cell_type": "code",
      "metadata": {
        "colab": {
          "base_uri": "https://localhost:8080/",
          "height": 445
        },
        "id": "M_9EgjX_7N9n",
        "outputId": "78658363-cce7-4f01-e8dc-6322dd1137db"
      },
      "source": [
        "test.tail()"
      ],
      "execution_count": 7,
      "outputs": [
        {
          "output_type": "execute_result",
          "data": {
            "text/html": [
              "<div>\n",
              "<style scoped>\n",
              "    .dataframe tbody tr th:only-of-type {\n",
              "        vertical-align: middle;\n",
              "    }\n",
              "\n",
              "    .dataframe tbody tr th {\n",
              "        vertical-align: top;\n",
              "    }\n",
              "\n",
              "    .dataframe thead th {\n",
              "        text-align: right;\n",
              "    }\n",
              "</style>\n",
              "<table border=\"1\" class=\"dataframe\">\n",
              "  <thead>\n",
              "    <tr style=\"text-align: right;\">\n",
              "      <th></th>\n",
              "      <th>PassengerId</th>\n",
              "      <th>Pclass</th>\n",
              "      <th>Name</th>\n",
              "      <th>Sex</th>\n",
              "      <th>Age</th>\n",
              "      <th>SibSp</th>\n",
              "      <th>Parch</th>\n",
              "      <th>Ticket</th>\n",
              "      <th>Fare</th>\n",
              "      <th>Cabin</th>\n",
              "      <th>Embarked</th>\n",
              "    </tr>\n",
              "  </thead>\n",
              "  <tbody>\n",
              "    <tr>\n",
              "      <th>413</th>\n",
              "      <td>1305</td>\n",
              "      <td>3</td>\n",
              "      <td>Spector, Mr. Woolf</td>\n",
              "      <td>male</td>\n",
              "      <td>NaN</td>\n",
              "      <td>0</td>\n",
              "      <td>0</td>\n",
              "      <td>A.5. 3236</td>\n",
              "      <td>8.0500</td>\n",
              "      <td>NaN</td>\n",
              "      <td>S</td>\n",
              "    </tr>\n",
              "    <tr>\n",
              "      <th>414</th>\n",
              "      <td>1306</td>\n",
              "      <td>1</td>\n",
              "      <td>Oliva y Ocana, Dona. Fermina</td>\n",
              "      <td>female</td>\n",
              "      <td>39.0</td>\n",
              "      <td>0</td>\n",
              "      <td>0</td>\n",
              "      <td>PC 17758</td>\n",
              "      <td>108.9000</td>\n",
              "      <td>C105</td>\n",
              "      <td>C</td>\n",
              "    </tr>\n",
              "    <tr>\n",
              "      <th>415</th>\n",
              "      <td>1307</td>\n",
              "      <td>3</td>\n",
              "      <td>Saether, Mr. Simon Sivertsen</td>\n",
              "      <td>male</td>\n",
              "      <td>38.5</td>\n",
              "      <td>0</td>\n",
              "      <td>0</td>\n",
              "      <td>SOTON/O.Q. 3101262</td>\n",
              "      <td>7.2500</td>\n",
              "      <td>NaN</td>\n",
              "      <td>S</td>\n",
              "    </tr>\n",
              "    <tr>\n",
              "      <th>416</th>\n",
              "      <td>1308</td>\n",
              "      <td>3</td>\n",
              "      <td>Ware, Mr. Frederick</td>\n",
              "      <td>male</td>\n",
              "      <td>NaN</td>\n",
              "      <td>0</td>\n",
              "      <td>0</td>\n",
              "      <td>359309</td>\n",
              "      <td>8.0500</td>\n",
              "      <td>NaN</td>\n",
              "      <td>S</td>\n",
              "    </tr>\n",
              "    <tr>\n",
              "      <th>417</th>\n",
              "      <td>1309</td>\n",
              "      <td>3</td>\n",
              "      <td>Peter, Master. Michael J</td>\n",
              "      <td>male</td>\n",
              "      <td>NaN</td>\n",
              "      <td>1</td>\n",
              "      <td>1</td>\n",
              "      <td>2668</td>\n",
              "      <td>22.3583</td>\n",
              "      <td>NaN</td>\n",
              "      <td>C</td>\n",
              "    </tr>\n",
              "  </tbody>\n",
              "</table>\n",
              "</div>"
            ],
            "text/plain": [
              "     PassengerId  Pclass                          Name  ...      Fare  Cabin  Embarked\n",
              "413         1305       3            Spector, Mr. Woolf  ...    8.0500    NaN         S\n",
              "414         1306       1  Oliva y Ocana, Dona. Fermina  ...  108.9000   C105         C\n",
              "415         1307       3  Saether, Mr. Simon Sivertsen  ...    7.2500    NaN         S\n",
              "416         1308       3           Ware, Mr. Frederick  ...    8.0500    NaN         S\n",
              "417         1309       3      Peter, Master. Michael J  ...   22.3583    NaN         C\n",
              "\n",
              "[5 rows x 11 columns]"
            ]
          },
          "metadata": {
            "tags": []
          },
          "execution_count": 7
        }
      ]
    },
    {
      "cell_type": "markdown",
      "metadata": {
        "id": "9fhmm72V7YSM"
      },
      "source": [
        "Tidying the dataset\n"
      ]
    },
    {
      "cell_type": "code",
      "metadata": {
        "colab": {
          "base_uri": "https://localhost:8080/",
          "height": 444
        },
        "id": "_vT4xn6B7wpH",
        "outputId": "efc91bd1-f14c-40c3-80c4-48b382405aec"
      },
      "source": [
        "train.describe(include='all')"
      ],
      "execution_count": 8,
      "outputs": [
        {
          "output_type": "execute_result",
          "data": {
            "text/html": [
              "<div>\n",
              "<style scoped>\n",
              "    .dataframe tbody tr th:only-of-type {\n",
              "        vertical-align: middle;\n",
              "    }\n",
              "\n",
              "    .dataframe tbody tr th {\n",
              "        vertical-align: top;\n",
              "    }\n",
              "\n",
              "    .dataframe thead th {\n",
              "        text-align: right;\n",
              "    }\n",
              "</style>\n",
              "<table border=\"1\" class=\"dataframe\">\n",
              "  <thead>\n",
              "    <tr style=\"text-align: right;\">\n",
              "      <th></th>\n",
              "      <th>PassengerId</th>\n",
              "      <th>Survived</th>\n",
              "      <th>Pclass</th>\n",
              "      <th>Name</th>\n",
              "      <th>Sex</th>\n",
              "      <th>Age</th>\n",
              "      <th>SibSp</th>\n",
              "      <th>Parch</th>\n",
              "      <th>Ticket</th>\n",
              "      <th>Fare</th>\n",
              "      <th>Cabin</th>\n",
              "      <th>Embarked</th>\n",
              "    </tr>\n",
              "  </thead>\n",
              "  <tbody>\n",
              "    <tr>\n",
              "      <th>count</th>\n",
              "      <td>891.000000</td>\n",
              "      <td>891.000000</td>\n",
              "      <td>891.000000</td>\n",
              "      <td>891</td>\n",
              "      <td>891</td>\n",
              "      <td>714.000000</td>\n",
              "      <td>891.000000</td>\n",
              "      <td>891.000000</td>\n",
              "      <td>891</td>\n",
              "      <td>891.000000</td>\n",
              "      <td>204</td>\n",
              "      <td>889</td>\n",
              "    </tr>\n",
              "    <tr>\n",
              "      <th>unique</th>\n",
              "      <td>NaN</td>\n",
              "      <td>NaN</td>\n",
              "      <td>NaN</td>\n",
              "      <td>891</td>\n",
              "      <td>2</td>\n",
              "      <td>NaN</td>\n",
              "      <td>NaN</td>\n",
              "      <td>NaN</td>\n",
              "      <td>681</td>\n",
              "      <td>NaN</td>\n",
              "      <td>147</td>\n",
              "      <td>3</td>\n",
              "    </tr>\n",
              "    <tr>\n",
              "      <th>top</th>\n",
              "      <td>NaN</td>\n",
              "      <td>NaN</td>\n",
              "      <td>NaN</td>\n",
              "      <td>Lindqvist, Mr. Eino William</td>\n",
              "      <td>male</td>\n",
              "      <td>NaN</td>\n",
              "      <td>NaN</td>\n",
              "      <td>NaN</td>\n",
              "      <td>347082</td>\n",
              "      <td>NaN</td>\n",
              "      <td>B96 B98</td>\n",
              "      <td>S</td>\n",
              "    </tr>\n",
              "    <tr>\n",
              "      <th>freq</th>\n",
              "      <td>NaN</td>\n",
              "      <td>NaN</td>\n",
              "      <td>NaN</td>\n",
              "      <td>1</td>\n",
              "      <td>577</td>\n",
              "      <td>NaN</td>\n",
              "      <td>NaN</td>\n",
              "      <td>NaN</td>\n",
              "      <td>7</td>\n",
              "      <td>NaN</td>\n",
              "      <td>4</td>\n",
              "      <td>644</td>\n",
              "    </tr>\n",
              "    <tr>\n",
              "      <th>mean</th>\n",
              "      <td>446.000000</td>\n",
              "      <td>0.383838</td>\n",
              "      <td>2.308642</td>\n",
              "      <td>NaN</td>\n",
              "      <td>NaN</td>\n",
              "      <td>29.699118</td>\n",
              "      <td>0.523008</td>\n",
              "      <td>0.381594</td>\n",
              "      <td>NaN</td>\n",
              "      <td>32.204208</td>\n",
              "      <td>NaN</td>\n",
              "      <td>NaN</td>\n",
              "    </tr>\n",
              "    <tr>\n",
              "      <th>std</th>\n",
              "      <td>257.353842</td>\n",
              "      <td>0.486592</td>\n",
              "      <td>0.836071</td>\n",
              "      <td>NaN</td>\n",
              "      <td>NaN</td>\n",
              "      <td>14.526497</td>\n",
              "      <td>1.102743</td>\n",
              "      <td>0.806057</td>\n",
              "      <td>NaN</td>\n",
              "      <td>49.693429</td>\n",
              "      <td>NaN</td>\n",
              "      <td>NaN</td>\n",
              "    </tr>\n",
              "    <tr>\n",
              "      <th>min</th>\n",
              "      <td>1.000000</td>\n",
              "      <td>0.000000</td>\n",
              "      <td>1.000000</td>\n",
              "      <td>NaN</td>\n",
              "      <td>NaN</td>\n",
              "      <td>0.420000</td>\n",
              "      <td>0.000000</td>\n",
              "      <td>0.000000</td>\n",
              "      <td>NaN</td>\n",
              "      <td>0.000000</td>\n",
              "      <td>NaN</td>\n",
              "      <td>NaN</td>\n",
              "    </tr>\n",
              "    <tr>\n",
              "      <th>25%</th>\n",
              "      <td>223.500000</td>\n",
              "      <td>0.000000</td>\n",
              "      <td>2.000000</td>\n",
              "      <td>NaN</td>\n",
              "      <td>NaN</td>\n",
              "      <td>20.125000</td>\n",
              "      <td>0.000000</td>\n",
              "      <td>0.000000</td>\n",
              "      <td>NaN</td>\n",
              "      <td>7.910400</td>\n",
              "      <td>NaN</td>\n",
              "      <td>NaN</td>\n",
              "    </tr>\n",
              "    <tr>\n",
              "      <th>50%</th>\n",
              "      <td>446.000000</td>\n",
              "      <td>0.000000</td>\n",
              "      <td>3.000000</td>\n",
              "      <td>NaN</td>\n",
              "      <td>NaN</td>\n",
              "      <td>28.000000</td>\n",
              "      <td>0.000000</td>\n",
              "      <td>0.000000</td>\n",
              "      <td>NaN</td>\n",
              "      <td>14.454200</td>\n",
              "      <td>NaN</td>\n",
              "      <td>NaN</td>\n",
              "    </tr>\n",
              "    <tr>\n",
              "      <th>75%</th>\n",
              "      <td>668.500000</td>\n",
              "      <td>1.000000</td>\n",
              "      <td>3.000000</td>\n",
              "      <td>NaN</td>\n",
              "      <td>NaN</td>\n",
              "      <td>38.000000</td>\n",
              "      <td>1.000000</td>\n",
              "      <td>0.000000</td>\n",
              "      <td>NaN</td>\n",
              "      <td>31.000000</td>\n",
              "      <td>NaN</td>\n",
              "      <td>NaN</td>\n",
              "    </tr>\n",
              "    <tr>\n",
              "      <th>max</th>\n",
              "      <td>891.000000</td>\n",
              "      <td>1.000000</td>\n",
              "      <td>3.000000</td>\n",
              "      <td>NaN</td>\n",
              "      <td>NaN</td>\n",
              "      <td>80.000000</td>\n",
              "      <td>8.000000</td>\n",
              "      <td>6.000000</td>\n",
              "      <td>NaN</td>\n",
              "      <td>512.329200</td>\n",
              "      <td>NaN</td>\n",
              "      <td>NaN</td>\n",
              "    </tr>\n",
              "  </tbody>\n",
              "</table>\n",
              "</div>"
            ],
            "text/plain": [
              "        PassengerId    Survived      Pclass  ...        Fare    Cabin  Embarked\n",
              "count    891.000000  891.000000  891.000000  ...  891.000000      204       889\n",
              "unique          NaN         NaN         NaN  ...         NaN      147         3\n",
              "top             NaN         NaN         NaN  ...         NaN  B96 B98         S\n",
              "freq            NaN         NaN         NaN  ...         NaN        4       644\n",
              "mean     446.000000    0.383838    2.308642  ...   32.204208      NaN       NaN\n",
              "std      257.353842    0.486592    0.836071  ...   49.693429      NaN       NaN\n",
              "min        1.000000    0.000000    1.000000  ...    0.000000      NaN       NaN\n",
              "25%      223.500000    0.000000    2.000000  ...    7.910400      NaN       NaN\n",
              "50%      446.000000    0.000000    3.000000  ...   14.454200      NaN       NaN\n",
              "75%      668.500000    1.000000    3.000000  ...   31.000000      NaN       NaN\n",
              "max      891.000000    1.000000    3.000000  ...  512.329200      NaN       NaN\n",
              "\n",
              "[11 rows x 12 columns]"
            ]
          },
          "metadata": {
            "tags": []
          },
          "execution_count": 8
        }
      ]
    },
    {
      "cell_type": "code",
      "metadata": {
        "colab": {
          "base_uri": "https://localhost:8080/",
          "height": 336
        },
        "id": "E8xYD36X7gFp",
        "outputId": "331298ee-7a47-48de-c0d1-070926afb6a3"
      },
      "source": [
        "# Checking for Outliers\n",
        "train.drop('PassengerId',axis=1,inplace=True)\n",
        "train.boxplot()"
      ],
      "execution_count": 9,
      "outputs": [
        {
          "output_type": "stream",
          "text": [
            "/usr/local/lib/python3.7/dist-packages/numpy/core/_asarray.py:83: VisibleDeprecationWarning: Creating an ndarray from ragged nested sequences (which is a list-or-tuple of lists-or-tuples-or ndarrays with different lengths or shapes) is deprecated. If you meant to do this, you must specify 'dtype=object' when creating the ndarray\n",
            "  return array(a, dtype, copy=False, order=order)\n"
          ],
          "name": "stderr"
        },
        {
          "output_type": "execute_result",
          "data": {
            "text/plain": [
              "<matplotlib.axes._subplots.AxesSubplot at 0x7fd94a4fdc50>"
            ]
          },
          "metadata": {
            "tags": []
          },
          "execution_count": 9
        },
        {
          "output_type": "display_data",
          "data": {
            "image/png": "[encoded data removed]",
            "text/plain": [
              "<Figure size 432x288 with 1 Axes>"
            ]
          },
          "metadata": {
            "tags": [],
            "needs_background": "light"
          }
        }
      ]
    },
    {
      "cell_type": "code",
      "metadata": {
        "id": "YjSFKEkqyyza",
        "outputId": "40cb7457-f5cf-4f63-8f98-8aedc7227b1f",
        "colab": {
          "base_uri": "https://localhost:8080/",
          "height": 282
        }
      },
      "source": [
        "train['Age'].plot.box()"
      ],
      "execution_count": 10,
      "outputs": [
        {
          "output_type": "execute_result",
          "data": {
            "text/plain": [
              "<matplotlib.axes._subplots.AxesSubplot at 0x7fd94a36b0d0>"
            ]
          },
          "metadata": {
            "tags": []
          },
          "execution_count": 10
        },
        {
          "output_type": "display_data",
          "data": {
            "image/png": "[encoded data removed]",
            "text/plain": [
              "<Figure size 432x288 with 1 Axes>"
            ]
          },
          "metadata": {
            "tags": [],
            "needs_background": "light"
          }
        }
      ]
    },
    {
      "cell_type": "code",
      "metadata": {
        "id": "51_mrkR10TfB",
        "outputId": "b7a555c5-9c26-4717-8660-8b50b202008b",
        "colab": {
          "base_uri": "https://localhost:8080/",
          "height": 282
        }
      },
      "source": [
        "test['Age'].plot.box()"
      ],
      "execution_count": 11,
      "outputs": [
        {
          "output_type": "execute_result",
          "data": {
            "text/plain": [
              "<matplotlib.axes._subplots.AxesSubplot at 0x7fd949eaa4d0>"
            ]
          },
          "metadata": {
            "tags": []
          },
          "execution_count": 11
        },
        {
          "output_type": "display_data",
          "data": {
            "image/png": "[encoded data removed]",
            "text/plain": [
              "<Figure size 432x288 with 1 Axes>"
            ]
          },
          "metadata": {
            "tags": [],
            "needs_background": "light"
          }
        }
      ]
    },
    {
      "cell_type": "markdown",
      "metadata": {
        "id": "YgADATGlzA7C"
      },
      "source": [
        "it is necessary to remove the outliers since KNN is sensitive to outliers. But since survival could mean older people were evacuated first, there is acae not to drop these outliers"
      ]
    },
    {
      "cell_type": "code",
      "metadata": {
        "id": "E6Bmz92f0rbP",
        "outputId": "ade8f628-a8ec-46c1-f758-2e1bbc380712",
        "colab": {
          "base_uri": "https://localhost:8080/",
          "height": 530
        }
      },
      "source": [
        "train['Fare'].plot.box()\n",
        "plt.show()\n",
        "test['Fare'].plot.box()"
      ],
      "execution_count": 12,
      "outputs": [
        {
          "output_type": "display_data",
          "data": {
            "image/png": "[encoded data removed]",
            "text/plain": [
              "<Figure size 432x288 with 1 Axes>"
            ]
          },
          "metadata": {
            "tags": [],
            "needs_background": "light"
          }
        },
        {
          "output_type": "execute_result",
          "data": {
            "text/plain": [
              "<matplotlib.axes._subplots.AxesSubplot at 0x7fd949e1f650>"
            ]
          },
          "metadata": {
            "tags": []
          },
          "execution_count": 12
        },
        {
          "output_type": "display_data",
          "data": {
            "image/png": "[encoded data removed]",
            "text/plain": [
              "<Figure size 432x288 with 1 Axes>"
            ]
          },
          "metadata": {
            "tags": [],
            "needs_background": "light"
          }
        }
      ]
    },
    {
      "cell_type": "markdown",
      "metadata": {
        "id": "H-Zt4OP91ssn"
      },
      "source": [
        "\n",
        "\n",
        "Our fare column has alot of outliers mainly because fare is paid according to the ticket class and distance to be travelled, for example Class 1 paid the highest and those travelling longer distances also paid more. Hence the reason for the outliers in this column. We cannot remove them because if we do we risk losing alot of information. We will remove the extreme outlier where fare is 500"
      ]
    },
    {
      "cell_type": "code",
      "metadata": {
        "id": "9JaII0sk1re5"
      },
      "source": [
        "#Removing the extreme outlier\n",
        "train = train[train['Fare'] <= 400 ]\n",
        "test= test[test['Fare'] <= 400 ]"
      ],
      "execution_count": 13,
      "outputs": []
    },
    {
      "cell_type": "code",
      "metadata": {
        "colab": {
          "base_uri": "https://localhost:8080/"
        },
        "id": "OpqlXNDIGX0N",
        "outputId": "abccd5d1-9f35-44be-c5c8-6cfed5291d13"
      },
      "source": [
        "# Identifying the Missing Data\n",
        "train.isnull().sum()\n"
      ],
      "execution_count": 14,
      "outputs": [
        {
          "output_type": "execute_result",
          "data": {
            "text/plain": [
              "Survived      0\n",
              "Pclass        0\n",
              "Name          0\n",
              "Sex           0\n",
              "Age         177\n",
              "SibSp         0\n",
              "Parch         0\n",
              "Ticket        0\n",
              "Fare          0\n",
              "Cabin       686\n",
              "Embarked      2\n",
              "dtype: int64"
            ]
          },
          "metadata": {
            "tags": []
          },
          "execution_count": 14
        }
      ]
    },
    {
      "cell_type": "code",
      "metadata": {
        "colab": {
          "base_uri": "https://localhost:8080/"
        },
        "id": "DYW4VQb6GXsx",
        "outputId": "7551fd84-de08-40c7-c5a3-550c1ddbf03a"
      },
      "source": [
        "test.isnull().sum()"
      ],
      "execution_count": 15,
      "outputs": [
        {
          "output_type": "execute_result",
          "data": {
            "text/plain": [
              "PassengerId      0\n",
              "Pclass           0\n",
              "Name             0\n",
              "Sex              0\n",
              "Age             86\n",
              "SibSp            0\n",
              "Parch            0\n",
              "Ticket           0\n",
              "Fare             0\n",
              "Cabin          326\n",
              "Embarked         0\n",
              "dtype: int64"
            ]
          },
          "metadata": {
            "tags": []
          },
          "execution_count": 15
        }
      ]
    },
    {
      "cell_type": "markdown",
      "metadata": {
        "id": "2DiEEcSo7e9K"
      },
      "source": [
        "Since the column cabin has over 70% missing values in both datasets, we drop it. We will fill in the embarked column with the embarking station that most common. We will also fill the column age with median.  \n",
        "We will fill the null age values with median."
      ]
    },
    {
      "cell_type": "code",
      "metadata": {
        "colab": {
          "base_uri": "https://localhost:8080/"
        },
        "id": "72XushS2GfvB",
        "outputId": "91fabcc6-c265-4d15-9775-722b6dc05790"
      },
      "source": [
        "#Dealing with missing values\n",
        "#For train set\n",
        "train['Age'].fillna(value=train['Age'].median(), inplace=True)\n",
        "train = train[train['Embarked'].notna()]\n",
        "train = train.drop(['Cabin'], axis = 1) \n",
        "print(train.shape)\n",
        "train.isnull().sum()\n"
      ],
      "execution_count": 16,
      "outputs": [
        {
          "output_type": "stream",
          "text": [
            "(886, 10)\n"
          ],
          "name": "stdout"
        },
        {
          "output_type": "execute_result",
          "data": {
            "text/plain": [
              "Survived    0\n",
              "Pclass      0\n",
              "Name        0\n",
              "Sex         0\n",
              "Age         0\n",
              "SibSp       0\n",
              "Parch       0\n",
              "Ticket      0\n",
              "Fare        0\n",
              "Embarked    0\n",
              "dtype: int64"
            ]
          },
          "metadata": {
            "tags": []
          },
          "execution_count": 16
        }
      ]
    },
    {
      "cell_type": "code",
      "metadata": {
        "colab": {
          "base_uri": "https://localhost:8080/"
        },
        "id": "BRIqAQ05Hily",
        "outputId": "eca9cb26-556d-4491-a895-4abf73b29897"
      },
      "source": [
        "#For test set\n",
        "test['Age'].fillna(value=test['Age'].median(), inplace=True)\n",
        "test = test.drop(['Cabin'], axis = 1) \n",
        "test = test[test['Fare'].notna()]\n",
        "test.isnull().sum()"
      ],
      "execution_count": 17,
      "outputs": [
        {
          "output_type": "execute_result",
          "data": {
            "text/plain": [
              "PassengerId    0\n",
              "Pclass         0\n",
              "Name           0\n",
              "Sex            0\n",
              "Age            0\n",
              "SibSp          0\n",
              "Parch          0\n",
              "Ticket         0\n",
              "Fare           0\n",
              "Embarked       0\n",
              "dtype: int64"
            ]
          },
          "metadata": {
            "tags": []
          },
          "execution_count": 17
        }
      ]
    },
    {
      "cell_type": "code",
      "metadata": {
        "colab": {
          "base_uri": "https://localhost:8080/"
        },
        "id": "J5anToxnLRBy",
        "outputId": "c0451d8b-d4fc-4ff1-c024-93098e9d39a9"
      },
      "source": [
        "# Checking for duplicates\n",
        "train.duplicated().value_counts()"
      ],
      "execution_count": 18,
      "outputs": [
        {
          "output_type": "execute_result",
          "data": {
            "text/plain": [
              "False    886\n",
              "dtype: int64"
            ]
          },
          "metadata": {
            "tags": []
          },
          "execution_count": 18
        }
      ]
    },
    {
      "cell_type": "code",
      "metadata": {
        "colab": {
          "base_uri": "https://localhost:8080/"
        },
        "id": "YYrOHqDMLQ5F",
        "outputId": "04d4b448-ac7e-43c9-fef7-bf68b7e820d6"
      },
      "source": [
        "test.duplicated().value_counts()"
      ],
      "execution_count": 19,
      "outputs": [
        {
          "output_type": "execute_result",
          "data": {
            "text/plain": [
              "False    416\n",
              "dtype: int64"
            ]
          },
          "metadata": {
            "tags": []
          },
          "execution_count": 19
        }
      ]
    },
    {
      "cell_type": "markdown",
      "metadata": {
        "id": "s3ZSES34LfIG"
      },
      "source": [
        "Since we have no duplicates, we can go on with our work"
      ]
    },
    {
      "cell_type": "code",
      "metadata": {
        "colab": {
          "base_uri": "https://localhost:8080/"
        },
        "id": "Z6c4o6bmWmdx",
        "outputId": "f801b029-8ac5-4d1c-8fe8-ddd0e674e79d"
      },
      "source": [
        "train['Embarked'].value_counts()"
      ],
      "execution_count": 20,
      "outputs": [
        {
          "output_type": "execute_result",
          "data": {
            "text/plain": [
              "S    644\n",
              "C    165\n",
              "Q     77\n",
              "Name: Embarked, dtype: int64"
            ]
          },
          "metadata": {
            "tags": []
          },
          "execution_count": 20
        }
      ]
    },
    {
      "cell_type": "code",
      "metadata": {
        "colab": {
          "base_uri": "https://localhost:8080/"
        },
        "id": "PpELuwToWI5D",
        "outputId": "1807493f-258d-47a8-8e24-8f3f29d273ef"
      },
      "source": [
        "# Drop unneccessary columns\n",
        "train.columns"
      ],
      "execution_count": 21,
      "outputs": [
        {
          "output_type": "execute_result",
          "data": {
            "text/plain": [
              "Index(['Survived', 'Pclass', 'Name', 'Sex', 'Age', 'SibSp', 'Parch', 'Ticket',\n",
              "       'Fare', 'Embarked'],\n",
              "      dtype='object')"
            ]
          },
          "metadata": {
            "tags": []
          },
          "execution_count": 21
        }
      ]
    },
    {
      "cell_type": "code",
      "metadata": {
        "id": "4wtawQ0KWPZE"
      },
      "source": [
        "train=train.drop(columns=['Name','Ticket'])\n",
        "test=test.drop(columns=['Name','Ticket','PassengerId'\t])\n"
      ],
      "execution_count": 22,
      "outputs": []
    },
    {
      "cell_type": "markdown",
      "metadata": {
        "id": "-2_bMIXp7dyd"
      },
      "source": [
        "## Exploratory Data Analysis"
      ]
    },
    {
      "cell_type": "markdown",
      "metadata": {
        "id": "Jiko_XYxMLVL"
      },
      "source": [
        "We shall use the train dataset to calculate EDA"
      ]
    },
    {
      "cell_type": "code",
      "metadata": {
        "id": "vF0wuoOML1Vp"
      },
      "source": [
        "# Age distributiontrain.describe()"
      ],
      "execution_count": 23,
      "outputs": []
    },
    {
      "cell_type": "code",
      "metadata": {
        "colab": {
          "base_uri": "https://localhost:8080/",
          "height": 296
        },
        "id": "pc51zD5ENmzX",
        "outputId": "ebedbcfc-1289-4ae7-eb68-51524a4e0e8f"
      },
      "source": [
        "\n",
        "sns.distplot(train.Age)\n"
      ],
      "execution_count": 24,
      "outputs": [
        {
          "output_type": "execute_result",
          "data": {
            "text/plain": [
              "<matplotlib.axes._subplots.AxesSubplot at 0x7fd949e88450>"
            ]
          },
          "metadata": {
            "tags": []
          },
          "execution_count": 24
        },
        {
          "output_type": "display_data",
          "data": {
            "image/png": "[encoded data removed]",
            "text/plain": [
              "<Figure size 432x288 with 1 Axes>"
            ]
          },
          "metadata": {
            "tags": [],
            "needs_background": "light"
          }
        }
      ]
    },
    {
      "cell_type": "markdown",
      "metadata": {
        "id": "ifPYx9s1PeSj"
      },
      "source": [
        "\n",
        "\n",
        "The distribution appears to be normal and leptokurtic.\n"
      ]
    },
    {
      "cell_type": "code",
      "metadata": {
        "colab": {
          "base_uri": "https://localhost:8080/",
          "height": 323
        },
        "id": "zUJQ5Ay5Osac",
        "outputId": "68ab68e9-d41a-442d-8f0c-d896b067be55"
      },
      "source": [
        "# Gender\n",
        "# We will see the total number of both sexes and plot against the survived statistics\n",
        "train['Sex'].value_counts().plot(kind='bar')\n",
        "plt.title('Gender of ToTal passengers')"
      ],
      "execution_count": 25,
      "outputs": [
        {
          "output_type": "execute_result",
          "data": {
            "text/plain": [
              "Text(0.5, 1.0, 'Gender of ToTal passengers')"
            ]
          },
          "metadata": {
            "tags": []
          },
          "execution_count": 25
        },
        {
          "output_type": "display_data",
          "data": {
            "image/png": "[encoded data removed]",
            "text/plain": [
              "<Figure size 432x288 with 1 Axes>"
            ]
          },
          "metadata": {
            "tags": [],
            "needs_background": "light"
          }
        }
      ]
    },
    {
      "cell_type": "code",
      "metadata": {
        "colab": {
          "base_uri": "https://localhost:8080/",
          "height": 323
        },
        "id": "A7PGtn4fO4Ed",
        "outputId": "e728c745-d13a-4549-98b9-2212ba08b1f8"
      },
      "source": [
        "# The gender counts of survived passengers\n",
        "surv=train[train['Survived']==1]\n",
        "surv['Sex'].value_counts().plot(kind='bar')\n",
        "plt.title('Gender of survived passengers')"
      ],
      "execution_count": 26,
      "outputs": [
        {
          "output_type": "execute_result",
          "data": {
            "text/plain": [
              "Text(0.5, 1.0, 'Gender of survived passengers')"
            ]
          },
          "metadata": {
            "tags": []
          },
          "execution_count": 26
        },
        {
          "output_type": "display_data",
          "data": {
            "image/png": "[encoded data removed]",
            "text/plain": [
              "<Figure size 432x288 with 1 Axes>"
            ]
          },
          "metadata": {
            "tags": [],
            "needs_background": "light"
          }
        }
      ]
    },
    {
      "cell_type": "code",
      "metadata": {
        "colab": {
          "base_uri": "https://localhost:8080/",
          "height": 473
        },
        "id": "eM77n7EEPr_-",
        "outputId": "ea3de6bf-ac3f-4a75-8086-e71d8f1c8b5c"
      },
      "source": [
        "# Crosstab on gender and survival \n",
        "surv1=pd.crosstab(train['Sex'],train['Survived'])\n",
        "print(surv1)\n",
        "print(pd.crosstab(train['Sex'],train['Survived'],normalize=0))\n",
        "surv1.plot.bar(stacked=True)\n",
        "plt.title('Gender ratio of survived passengers')"
      ],
      "execution_count": 27,
      "outputs": [
        {
          "output_type": "stream",
          "text": [
            "Survived    0    1\n",
            "Sex               \n",
            "female     81  230\n",
            "male      468  107\n",
            "Survived         0         1\n",
            "Sex                         \n",
            "female    0.260450  0.739550\n",
            "male      0.813913  0.186087\n"
          ],
          "name": "stdout"
        },
        {
          "output_type": "execute_result",
          "data": {
            "text/plain": [
              "Text(0.5, 1.0, 'Gender ratio of survived passengers')"
            ]
          },
          "metadata": {
            "tags": []
          },
          "execution_count": 27
        },
        {
          "output_type": "display_data",
          "data": {
            "image/png": "[encoded data removed]",
            "text/plain": [
              "<Figure size 432x288 with 1 Axes>"
            ]
          },
          "metadata": {
            "tags": [],
            "needs_background": "light"
          }
        }
      ]
    },
    {
      "cell_type": "markdown",
      "metadata": {
        "id": "sskb1pCvQkjI"
      },
      "source": [
        "There being a bias on the gender of the embarked pasengers: men who survived and embarked are more  =than the women , the was a higher ratio (74.03%) of women who survived compared to a low ratio of men (18.89%)"
      ]
    },
    {
      "cell_type": "code",
      "metadata": {
        "colab": {
          "base_uri": "https://localhost:8080/",
          "height": 363
        },
        "id": "rDPpRmfqR1T8",
        "outputId": "9c28ebe1-8be8-4016-d9dd-8aeaa6fed4e6"
      },
      "source": [
        "# Class of ticket class\n",
        "# The total number of passengers per class\n",
        "print(train['Pclass'].value_counts())\n",
        "train['Pclass'].value_counts().plot.bar(title='Total number of passengers per class')"
      ],
      "execution_count": 28,
      "outputs": [
        {
          "output_type": "stream",
          "text": [
            "3    491\n",
            "1    211\n",
            "2    184\n",
            "Name: Pclass, dtype: int64\n"
          ],
          "name": "stdout"
        },
        {
          "output_type": "execute_result",
          "data": {
            "text/plain": [
              "<matplotlib.axes._subplots.AxesSubplot at 0x7fd947ba2e10>"
            ]
          },
          "metadata": {
            "tags": []
          },
          "execution_count": 28
        },
        {
          "output_type": "display_data",
          "data": {
            "image/png": "[encoded data removed]",
            "text/plain": [
              "<Figure size 432x288 with 1 Axes>"
            ]
          },
          "metadata": {
            "tags": [],
            "needs_background": "light"
          }
        }
      ]
    },
    {
      "cell_type": "markdown",
      "metadata": {
        "id": "bkNq9GvFRz-_"
      },
      "source": [
        "Third class had most passengers 491, 1 class had 214 and 2 class had 184, the fewest "
      ]
    },
    {
      "cell_type": "code",
      "metadata": {
        "colab": {
          "base_uri": "https://localhost:8080/",
          "height": 479
        },
        "id": "ce2Doo1JS7tP",
        "outputId": "77b2d0ee-e211-4734-f002-fe6f22b871a1"
      },
      "source": [
        "# Crosstab on ticket class and survival \n",
        "surv1=pd.crosstab(train['Pclass'],train['Survived'])\n",
        "print(surv1)\n",
        "print(pd.crosstab(train['Pclass'],train['Survived'],normalize=0))\n",
        "surv1.plot.bar(stacked=True)\n",
        "plt.title('Ratio of ticket class of survived passengers')"
      ],
      "execution_count": 29,
      "outputs": [
        {
          "output_type": "stream",
          "text": [
            "Survived    0    1\n",
            "Pclass            \n",
            "1          80  131\n",
            "2          97   87\n",
            "3         372  119\n",
            "Survived         0         1\n",
            "Pclass                      \n",
            "1         0.379147  0.620853\n",
            "2         0.527174  0.472826\n",
            "3         0.757637  0.242363\n"
          ],
          "name": "stdout"
        },
        {
          "output_type": "execute_result",
          "data": {
            "text/plain": [
              "Text(0.5, 1.0, 'Ratio of ticket class of survived passengers')"
            ]
          },
          "metadata": {
            "tags": []
          },
          "execution_count": 29
        },
        {
          "output_type": "display_data",
          "data": {
            "image/png": "[encoded data removed]",
            "text/plain": [
              "<Figure size 432x288 with 1 Axes>"
            ]
          },
          "metadata": {
            "tags": [],
            "needs_background": "light"
          }
        }
      ]
    },
    {
      "cell_type": "markdown",
      "metadata": {
        "id": "vb48zma8TVKi"
      },
      "source": [
        "62.6% of first class passengers survived, 2nd class had a 47.28% survival rate while third class had a low 24.23% survival rate"
      ]
    },
    {
      "cell_type": "code",
      "metadata": {
        "colab": {
          "base_uri": "https://localhost:8080/"
        },
        "id": "FNmTS9Z2Tx2e",
        "outputId": "a8310c7d-be85-43b7-b63c-5e638d77ea3a"
      },
      "source": [
        "# Sibling or parent count\n",
        "train['SibSp'].value_counts()\n"
      ],
      "execution_count": 30,
      "outputs": [
        {
          "output_type": "execute_result",
          "data": {
            "text/plain": [
              "0    603\n",
              "1    209\n",
              "2     28\n",
              "4     18\n",
              "3     16\n",
              "8      7\n",
              "5      5\n",
              "Name: SibSp, dtype: int64"
            ]
          },
          "metadata": {
            "tags": []
          },
          "execution_count": 30
        }
      ]
    },
    {
      "cell_type": "markdown",
      "metadata": {
        "id": "PUkjQw1bUOX-"
      },
      "source": [
        "Majority of people travelled alone, while second most had 1 family member. The number reduces as the family size grows"
      ]
    },
    {
      "cell_type": "code",
      "metadata": {
        "colab": {
          "base_uri": "https://localhost:8080/",
          "height": 669
        },
        "id": "e9LsUGykUC3O",
        "outputId": "3629807f-0523-4be8-98ce-f5572d63e228"
      },
      "source": [
        "# Crosstab on family members and survival \n",
        "surv1=pd.crosstab(train['SibSp'],train['Survived'])\n",
        "print(surv1)\n",
        "print('\\n')\n",
        "print(pd.crosstab(train['SibSp'],train['Survived'],normalize=0))\n",
        "surv1.plot.bar(stacked=True)\n",
        "plt.title('Ratio of survived passengers and number of accompanying family member')"
      ],
      "execution_count": 31,
      "outputs": [
        {
          "output_type": "stream",
          "text": [
            "Survived    0    1\n",
            "SibSp             \n",
            "0         398  205\n",
            "1          97  112\n",
            "2          15   13\n",
            "3          12    4\n",
            "4          15    3\n",
            "5           5    0\n",
            "8           7    0\n",
            "\n",
            "\n",
            "Survived         0         1\n",
            "SibSp                       \n",
            "0         0.660033  0.339967\n",
            "1         0.464115  0.535885\n",
            "2         0.535714  0.464286\n",
            "3         0.750000  0.250000\n",
            "4         0.833333  0.166667\n",
            "5         1.000000  0.000000\n",
            "8         1.000000  0.000000\n"
          ],
          "name": "stdout"
        },
        {
          "output_type": "execute_result",
          "data": {
            "text/plain": [
              "Text(0.5, 1.0, 'Ratio of survived passengers and number of accompanying family member')"
            ]
          },
          "metadata": {
            "tags": []
          },
          "execution_count": 31
        },
        {
          "output_type": "display_data",
          "data": {
            "image/png": "[encoded data removed]",
            "text/plain": [
              "<Figure size 432x288 with 1 Axes>"
            ]
          },
          "metadata": {
            "tags": [],
            "needs_background": "light"
          }
        }
      ]
    },
    {
      "cell_type": "markdown",
      "metadata": {
        "id": "7xNW6aL4UfeF"
      },
      "source": [
        "Those who had a 1 family member had the highest survival rating of 53.59% followed by family 2 family members (46.42%), travelling alone 34.32%. A larger number of SibPs had a lower survival rate, some cases a 0% rate\n"
      ]
    },
    {
      "cell_type": "code",
      "metadata": {
        "id": "3vxq6fWFXohW",
        "outputId": "935615cb-b11b-45c2-c75c-8f2eb03b0d2c",
        "colab": {
          "base_uri": "https://localhost:8080/",
          "height": 480
        }
      },
      "source": [
        "# Embark port\n",
        "surv2=pd.crosstab(train['Embarked'],train['Survived'])\n",
        "print(surv2)\n",
        "print(pd.crosstab(train['Embarked'],train['Survived'],normalize=0))\n",
        "surv2.plot.bar(stacked=True)\n",
        "plt.title('Gender ratio of survived passengers')"
      ],
      "execution_count": 32,
      "outputs": [
        {
          "output_type": "stream",
          "text": [
            "Survived    0    1\n",
            "Embarked          \n",
            "C          75   90\n",
            "Q          47   30\n",
            "S         427  217\n",
            "Survived         0         1\n",
            "Embarked                    \n",
            "C         0.454545  0.545455\n",
            "Q         0.610390  0.389610\n",
            "S         0.663043  0.336957\n"
          ],
          "name": "stdout"
        },
        {
          "output_type": "execute_result",
          "data": {
            "text/plain": [
              "Text(0.5, 1.0, 'Gender ratio of survived passengers')"
            ]
          },
          "metadata": {
            "tags": []
          },
          "execution_count": 32
        },
        {
          "output_type": "display_data",
          "data": {
            "image/png": "[encoded data removed]",
            "text/plain": [
              "<Figure size 432x288 with 1 Axes>"
            ]
          },
          "metadata": {
            "tags": [],
            "needs_background": "light"
          }
        }
      ]
    },
    {
      "cell_type": "markdown",
      "metadata": {
        "id": "2-ek8ddOXyKm"
      },
      "source": [
        "Port C had the best survival ratio of 55.357%. port Q had 38.96% while Port S had a low 33.69%. This gives a bias to the embarkment port."
      ]
    },
    {
      "cell_type": "code",
      "metadata": {
        "colab": {
          "base_uri": "https://localhost:8080/",
          "height": 615
        },
        "id": "qGNJAj0Uxr7V",
        "outputId": "e5c9e9a7-f6e6-4ec3-a03e-d7668f3a81c6"
      },
      "source": [
        "# Embark port\n",
        "surv2=pd.crosstab(train['Parch'],train['Survived'])\n",
        "print(surv2)\n",
        "print(pd.crosstab(train['Parch'],train['Survived'],normalize=0))\n",
        "surv2.plot.bar(stacked=True)\n",
        "plt.title('Gender ratio of survived passengers')"
      ],
      "execution_count": 33,
      "outputs": [
        {
          "output_type": "stream",
          "text": [
            "Survived    0    1\n",
            "Parch             \n",
            "0         445  229\n",
            "1          53   64\n",
            "2          40   40\n",
            "3           2    3\n",
            "4           4    0\n",
            "5           4    1\n",
            "6           1    0\n",
            "Survived         0         1\n",
            "Parch                       \n",
            "0         0.660237  0.339763\n",
            "1         0.452991  0.547009\n",
            "2         0.500000  0.500000\n",
            "3         0.400000  0.600000\n",
            "4         1.000000  0.000000\n",
            "5         0.800000  0.200000\n",
            "6         1.000000  0.000000\n"
          ],
          "name": "stdout"
        },
        {
          "output_type": "execute_result",
          "data": {
            "text/plain": [
              "Text(0.5, 1.0, 'Gender ratio of survived passengers')"
            ]
          },
          "metadata": {
            "tags": []
          },
          "execution_count": 33
        },
        {
          "output_type": "display_data",
          "data": {
            "image/png": "[encoded data removed]",
            "text/plain": [
              "<Figure size 432x288 with 1 Axes>"
            ]
          },
          "metadata": {
            "tags": [],
            "needs_background": "light"
          }
        }
      ]
    },
    {
      "cell_type": "markdown",
      "metadata": {
        "id": "JXZnNUdNyH1v"
      },
      "source": [
        "The best survival rate decreases with increased number of parents and childrenwith the highest being 3 children. Larger families have a low probability of survival"
      ]
    },
    {
      "cell_type": "code",
      "metadata": {
        "colab": {
          "base_uri": "https://localhost:8080/",
          "height": 489
        },
        "id": "ZM5R0nmsUfHh",
        "outputId": "927e1101-4384-4ead-a5ea-1fc1a75be4ce"
      },
      "source": [
        "# We check the correlation\n",
        "corr=train.corr()\n",
        "plt.figure(figsize = (15, 10))\n",
        "sns.heatmap(corr,annot=True)"
      ],
      "execution_count": 34,
      "outputs": [
        {
          "output_type": "execute_result",
          "data": {
            "text/plain": [
              "<matplotlib.axes._subplots.AxesSubplot at 0x7fd9478dbe10>"
            ]
          },
          "metadata": {
            "tags": []
          },
          "execution_count": 34
        },
        {
          "output_type": "display_data",
          "data": {
            "image/png": "[encoded data removed]",
            "text/plain": [
              "<Figure size 1080x720 with 2 Axes>"
            ]
          },
          "metadata": {
            "tags": [],
            "needs_background": "light"
          }
        }
      ]
    },
    {
      "cell_type": "markdown",
      "metadata": {
        "id": "BK9NZJjGY8u-"
      },
      "source": [
        "The features are not strongly correlated. Pclass and Fare has the strongest correlation coeffiecient of -0.55."
      ]
    },
    {
      "cell_type": "code",
      "metadata": {
        "id": "JHFr_oKKZROu",
        "outputId": "a6e77eff-6bb3-4789-d529-02ec84188b61",
        "colab": {
          "base_uri": "https://localhost:8080/",
          "height": 490
        }
      },
      "source": [
        "\n",
        "vif = pd.DataFrame(np.linalg.inv(corr.values), index = corr.index, \n",
        "                   columns = corr.columns)\n",
        "\n",
        "plt.figure(figsize = (15, 10))\n",
        "sns.heatmap(vif, annot = True)"
      ],
      "execution_count": 35,
      "outputs": [
        {
          "output_type": "execute_result",
          "data": {
            "text/plain": [
              "<matplotlib.axes._subplots.AxesSubplot at 0x7fd94795c990>"
            ]
          },
          "metadata": {
            "tags": []
          },
          "execution_count": 35
        },
        {
          "output_type": "display_data",
          "data": {
            "image/png": "[encoded data removed]",
            "text/plain": [
              "<Figure size 1080x720 with 2 Axes>"
            ]
          },
          "metadata": {
            "tags": [],
            "needs_background": "light"
          }
        }
      ]
    },
    {
      "cell_type": "markdown",
      "metadata": {
        "id": "sfGAOi83ZkTL"
      },
      "source": [
        "All the VIF scores are low. "
      ]
    },
    {
      "cell_type": "markdown",
      "metadata": {
        "id": "caPtu5OVbGfh"
      },
      "source": [
        "## Feature Engineering\n",
        "Label encoding\n",
        "\n",
        "Sex: male = 1 and female = 0\n",
        "\n",
        "Embarked: C = 0, Q = 1 and S = 2"
      ]
    },
    {
      "cell_type": "code",
      "metadata": {
        "id": "Cw83aqInbSDm",
        "outputId": "21543e7b-d6a2-401a-d2d0-35df5b05282d",
        "colab": {
          "base_uri": "https://localhost:8080/",
          "height": 340
        }
      },
      "source": [
        "# Encoding using label encoder\n",
        "from sklearn.preprocessing import LabelEncoder\n",
        "\n",
        "train = train.apply(LabelEncoder().fit_transform)\n",
        "print(train.head())\n",
        "print('\\n')\n",
        "test = test.apply(LabelEncoder().fit_transform)\n",
        "test.head()\n",
        "\n"
      ],
      "execution_count": 36,
      "outputs": [
        {
          "output_type": "stream",
          "text": [
            "   Survived  Pclass  Sex  Age  SibSp  Parch  Fare  Embarked\n",
            "0         0       2    1   28      1      0    18         2\n",
            "1         1       0    0   51      1      0   207         0\n",
            "2         1       2    0   34      0      0    41         2\n",
            "3         1       0    0   47      1      0   189         2\n",
            "4         0       2    1   47      0      0    43         2\n",
            "\n",
            "\n"
          ],
          "name": "stdout"
        },
        {
          "output_type": "execute_result",
          "data": {
            "text/html": [
              "<div>\n",
              "<style scoped>\n",
              "    .dataframe tbody tr th:only-of-type {\n",
              "        vertical-align: middle;\n",
              "    }\n",
              "\n",
              "    .dataframe tbody tr th {\n",
              "        vertical-align: top;\n",
              "    }\n",
              "\n",
              "    .dataframe thead th {\n",
              "        text-align: right;\n",
              "    }\n",
              "</style>\n",
              "<table border=\"1\" class=\"dataframe\">\n",
              "  <thead>\n",
              "    <tr style=\"text-align: right;\">\n",
              "      <th></th>\n",
              "      <th>Pclass</th>\n",
              "      <th>Sex</th>\n",
              "      <th>Age</th>\n",
              "      <th>SibSp</th>\n",
              "      <th>Parch</th>\n",
              "      <th>Fare</th>\n",
              "      <th>Embarked</th>\n",
              "    </tr>\n",
              "  </thead>\n",
              "  <tbody>\n",
              "    <tr>\n",
              "      <th>0</th>\n",
              "      <td>2</td>\n",
              "      <td>1</td>\n",
              "      <td>44</td>\n",
              "      <td>0</td>\n",
              "      <td>0</td>\n",
              "      <td>24</td>\n",
              "      <td>1</td>\n",
              "    </tr>\n",
              "    <tr>\n",
              "      <th>1</th>\n",
              "      <td>2</td>\n",
              "      <td>0</td>\n",
              "      <td>60</td>\n",
              "      <td>1</td>\n",
              "      <td>0</td>\n",
              "      <td>5</td>\n",
              "      <td>2</td>\n",
              "    </tr>\n",
              "    <tr>\n",
              "      <th>2</th>\n",
              "      <td>1</td>\n",
              "      <td>1</td>\n",
              "      <td>72</td>\n",
              "      <td>0</td>\n",
              "      <td>0</td>\n",
              "      <td>41</td>\n",
              "      <td>1</td>\n",
              "    </tr>\n",
              "    <tr>\n",
              "      <th>3</th>\n",
              "      <td>2</td>\n",
              "      <td>1</td>\n",
              "      <td>34</td>\n",
              "      <td>0</td>\n",
              "      <td>0</td>\n",
              "      <td>34</td>\n",
              "      <td>2</td>\n",
              "    </tr>\n",
              "    <tr>\n",
              "      <th>4</th>\n",
              "      <td>2</td>\n",
              "      <td>0</td>\n",
              "      <td>27</td>\n",
              "      <td>1</td>\n",
              "      <td>1</td>\n",
              "      <td>46</td>\n",
              "      <td>2</td>\n",
              "    </tr>\n",
              "  </tbody>\n",
              "</table>\n",
              "</div>"
            ],
            "text/plain": [
              "   Pclass  Sex  Age  SibSp  Parch  Fare  Embarked\n",
              "0       2    1   44      0      0    24         1\n",
              "1       2    0   60      1      0     5         2\n",
              "2       1    1   72      0      0    41         1\n",
              "3       2    1   34      0      0    34         2\n",
              "4       2    0   27      1      1    46         2"
            ]
          },
          "metadata": {
            "tags": []
          },
          "execution_count": 36
        }
      ]
    },
    {
      "cell_type": "markdown",
      "metadata": {
        "id": "-GrIdYcfecj_"
      },
      "source": [
        "## Implementing the solution"
      ]
    },
    {
      "cell_type": "markdown",
      "metadata": {
        "id": "j-HSjQHWeqV3"
      },
      "source": [
        "### Splitting datasets\n",
        "We will then split our training set, into training and testing set since our given testing set has no label. We will later use this test set"
      ]
    },
    {
      "cell_type": "code",
      "metadata": {
        "id": "tDB2q1QKfTJb"
      },
      "source": [
        "#Separate features from target\n",
        "X = train.iloc[:, 1:8].values\n",
        "y = train.iloc[:, 0].values\n"
      ],
      "execution_count": 37,
      "outputs": []
    },
    {
      "cell_type": "markdown",
      "metadata": {
        "id": "u5nmml6PfDSo"
      },
      "source": [
        "Scaling our datasets\n",
        "For K-NN algorithm it is very important for all data points to be in the same range, ewe will therefore scale our training set"
      ]
    },
    {
      "cell_type": "code",
      "metadata": {
        "id": "5Rgte00re66g"
      },
      "source": [
        "#Scaling data\n",
        "from sklearn.preprocessing import StandardScaler\n",
        "scaler = StandardScaler()\n",
        "X = scaler.fit_transform(X)"
      ],
      "execution_count": 38,
      "outputs": []
    },
    {
      "cell_type": "code",
      "metadata": {
        "id": "0wEyfOTBffZn",
        "outputId": "a2cb81fa-1058-4448-c162-35224e79f8ba",
        "colab": {
          "base_uri": "https://localhost:8080/"
        }
      },
      "source": [
        "# Train using 80% of the data.\n",
        "from sklearn.model_selection import train_test_split\n",
        "X_train, X_test, y_train, y_test = train_test_split(X, y, test_size=0.2, random_state=0)\n",
        "X_train.shape, y_train.shape"
      ],
      "execution_count": 39,
      "outputs": [
        {
          "output_type": "execute_result",
          "data": {
            "text/plain": [
              "((708, 7), (708,))"
            ]
          },
          "metadata": {
            "tags": []
          },
          "execution_count": 39
        }
      ]
    },
    {
      "cell_type": "markdown",
      "metadata": {
        "id": "SPa4mAU0fjiX"
      },
      "source": [
        "## Modelling with KNN algorithm\n",
        "\n",
        "With defaults"
      ]
    },
    {
      "cell_type": "code",
      "metadata": {
        "id": "9T3eF_bc_ZgA",
        "outputId": "ca4c4d9b-ce36-47b7-a9b8-30151ca5bd88",
        "colab": {
          "base_uri": "https://localhost:8080/"
        }
      },
      "source": [
        "my_tests = [0.1, 0.2, 0.3, 0.4, 0.5]\n",
        "\n",
        "from sklearn.model_selection import train_test_split as tts\n",
        "from sklearn.preprocessing import StandardScaler\n",
        "from sklearn.neighbors import KNeighborsClassifier\n",
        "from sklearn.metrics import confusion_matrix, classification_report,roc_auc_score,accuracy_score\n",
        "\n",
        "\n",
        "for test in my_tests:\n",
        "    X_train, X_test, y_train, y_test = tts(X, y, test_size = test, random_state = 12)\n",
        "    \n",
        "    # scaling the training data\n",
        "    scaler = StandardScaler()\n",
        "    scaler.fit(X_train)\n",
        "    \n",
        "    X_train = scaler.transform(X_train)\n",
        "    X_test = scaler.transform(X_test)\n",
        "    \n",
        "    # fitting to classifier\n",
        "    classifier = KNeighborsClassifier()\n",
        "    classifier.fit(X_train, y_train)\n",
        "    \n",
        "    # making predictions\n",
        "    y_pred = classifier.predict(X_test)\n",
        "\n",
        "    # evaluating the algorithm\n",
        "    print(\"Test size {} has Accuracy score:\".format(test),accuracy_score(y_test, y_pred))\n",
        "\n"
      ],
      "execution_count": 52,
      "outputs": [
        {
          "output_type": "stream",
          "text": [
            "Test size 0.1 has Accuracy score: 0.8202247191011236\n",
            "Test size 0.2 has Accuracy score: 0.797752808988764\n",
            "Test size 0.3 has Accuracy score: 0.7969924812030075\n",
            "Test size 0.4 has Accuracy score: 0.8140845070422535\n",
            "Test size 0.5 has Accuracy score: 0.8284424379232506\n"
          ],
          "name": "stdout"
        }
      ]
    },
    {
      "cell_type": "markdown",
      "metadata": {
        "id": "jl8T7GLF24cH"
      },
      "source": [
        "We test using different testing sizes and 50/50 train test split is the best test size.but it is illogical meaning 90/10 gives a better train test split. We shall use a default 80-20 split and see if the model improves."
      ]
    },
    {
      "cell_type": "code",
      "metadata": {
        "id": "ToZhVyejf7oc",
        "outputId": "b17d6347-30ac-4fad-e448-28a80284a785",
        "colab": {
          "base_uri": "https://localhost:8080/"
        }
      },
      "source": [
        "\n",
        "#Create KNN Object.\n",
        "knn = KNeighborsClassifier()\n",
        "\n",
        "#Training the model.\n",
        "model = knn.fit(X_train, y_train)\n",
        "\n",
        "#Predict test data set.\n",
        "y_pred = model.predict(X_test)\n",
        "\n",
        "#Checking performance our model with skitlearn metrics.\n",
        "from sklearn.metrics import confusion_matrix, classification_report,roc_auc_score,accuracy_score\n",
        "print('Confusion Matrix')\n",
        "print(confusion_matrix(y_test, y_pred))\n",
        "print('\\n')\n",
        "print('Classification Report')\n",
        "print(classification_report(y_test, y_pred))\n",
        "print('\\n')\n",
        "print('accuracy_score= ',accuracy_score(y_test, y_pred))\n",
        "print('ROC Score= ',roc_auc_score(y_test, y_pred))\n"
      ],
      "execution_count": 53,
      "outputs": [
        {
          "output_type": "stream",
          "text": [
            "Confusion Matrix\n",
            "[[234  33]\n",
            " [ 43 133]]\n",
            "\n",
            "\n",
            "Classification Report\n",
            "              precision    recall  f1-score   support\n",
            "\n",
            "           0       0.84      0.88      0.86       267\n",
            "           1       0.80      0.76      0.78       176\n",
            "\n",
            "    accuracy                           0.83       443\n",
            "   macro avg       0.82      0.82      0.82       443\n",
            "weighted avg       0.83      0.83      0.83       443\n",
            "\n",
            "\n",
            "\n",
            "accuracy_score=  0.8284424379232506\n",
            "ROC Score=  0.8160431562819205\n"
          ],
          "name": "stdout"
        }
      ]
    },
    {
      "cell_type": "markdown",
      "metadata": {
        "id": "uVDZDty19bM-"
      },
      "source": [
        "The accuracy score of 0.8033 and ROC score of 0.7877 is a good one, but can we improve it?"
      ]
    },
    {
      "cell_type": "markdown",
      "metadata": {
        "id": "x4SU6x9WETEC"
      },
      "source": [
        "## Challenging the solution\n",
        "Hyperparameter Tuning"
      ]
    },
    {
      "cell_type": "code",
      "metadata": {
        "id": "_YRA3UwK5VRp"
      },
      "source": [
        "# optimizing by normalizing\n",
        "from sklearn.preprocessing import Normalizer\n",
        "normal = Normalizer()\n",
        "X_train = normal.fit_transform(X_train)\n",
        "X_test = normal.transform(X_test)\n",
        "\n",
        "# Hyperparameter Tuning\n",
        "from sklearn.model_selection import RandomizedSearchCV\n",
        "\n",
        "knn = KNeighborsClassifier()\n",
        "\n",
        "params = {'n_neighbors' : list(range(1,30)),\n",
        "         'weights' : ['uniform', 'distance'],\n",
        "         'metric' : ['manhattan', 'euclidean', 'minkowski']\n",
        "          ,'leaf_size' : list(range(1,50)),'p':[1,2,3]}\n",
        "\n",
        "\n",
        "rscv = RandomizedSearchCV(knn, params,cv=10)\n",
        "rscv.fit(X_train, y_train)\n",
        "print(\"Best parameters:\", rscv.best_params_)\n",
        "\n"
      ],
      "execution_count": 54,
      "outputs": []
    },
    {
      "cell_type": "markdown",
      "metadata": {
        "id": "_e8NVFZy9l-n"
      },
      "source": [
        "We test using our best parameters and see which test size has the best model to predict"
      ]
    },
    {
      "cell_type": "code",
      "metadata": {
        "id": "A1jxcP0sEruW",
        "outputId": "c27d1ac1-a965-4d03-e2c3-0f512dde1f0e",
        "colab": {
          "base_uri": "https://localhost:8080/"
        }
      },
      "source": [
        "knn2 = KNeighborsClassifier(leaf_size=12, n_neighbors=12, p=1,metric='manhattan',weights= 'uniform')\n",
        "\n",
        "#Training the model.\n",
        "model2 = knn2.fit(X_train, y_train)\n",
        "\n",
        "#Predict test data set.\n",
        "y_pred2 = model2.predict(X_test)\n",
        "\n",
        "#Checking performance our model with skitlearn metrics.\n",
        "from sklearn.metrics import confusion_matrix, classification_report,roc_auc_score,accuracy_score\n",
        "print('Confusion Matrix')\n",
        "print(confusion_matrix(y_test, y_pred2))\n",
        "print('\\n')\n",
        "print('Classification Report')\n",
        "print(classification_report(y_test, y_pred2))\n",
        "print('\\n')\n",
        "print('accuracy_score= ',accuracy_score(y_test, y_pred2))\n",
        "print('ROC Score= ',roc_auc_score(y_test, y_pred2))"
      ],
      "execution_count": 55,
      "outputs": [
        {
          "output_type": "stream",
          "text": [
            "Confusion Matrix\n",
            "[[248  19]\n",
            " [ 60 116]]\n",
            "\n",
            "\n",
            "Classification Report\n",
            "              precision    recall  f1-score   support\n",
            "\n",
            "           0       0.81      0.93      0.86       267\n",
            "           1       0.86      0.66      0.75       176\n",
            "\n",
            "    accuracy                           0.82       443\n",
            "   macro avg       0.83      0.79      0.80       443\n",
            "weighted avg       0.83      0.82      0.82       443\n",
            "\n",
            "\n",
            "\n",
            "accuracy_score=  0.8216704288939052\n",
            "ROC Score=  0.7939649302008853\n"
          ],
          "name": "stdout"
        }
      ]
    },
    {
      "cell_type": "markdown",
      "metadata": {
        "id": "poixtlMd-PEx"
      },
      "source": [
        "The Acuuracy and roc score has increased slightly to 82.16% after hyperparameter tuning. 79 data points are misclassified. Lets see what 90-10 split can give us."
      ]
    },
    {
      "cell_type": "markdown",
      "metadata": {
        "id": "zSz7dXNDGfog"
      },
      "source": [
        "90-10 Ratio"
      ]
    },
    {
      "cell_type": "code",
      "metadata": {
        "id": "Kl_P0GE4Gd-f",
        "outputId": "63310829-1fc0-48dc-9ba0-cfdf8729a663",
        "colab": {
          "base_uri": "https://localhost:8080/"
        }
      },
      "source": [
        "# Train using 90% of the data.\n",
        "from sklearn.model_selection import train_test_split\n",
        "X1_train, X1_test, y1_train, y1_test = train_test_split(X, y, test_size=0.1, random_state=0)\n",
        "X1_train.shape, y1_train.shape"
      ],
      "execution_count": 56,
      "outputs": [
        {
          "output_type": "execute_result",
          "data": {
            "text/plain": [
              "((797, 7), (797,))"
            ]
          },
          "metadata": {
            "tags": []
          },
          "execution_count": 56
        }
      ]
    },
    {
      "cell_type": "code",
      "metadata": {
        "id": "fq_-rk21Guwq",
        "outputId": "14acec08-ab65-4df6-b29c-6ef152417a36",
        "colab": {
          "base_uri": "https://localhost:8080/"
        }
      },
      "source": [
        "knn3 = KNeighborsClassifier(leaf_size=12, n_neighbors=12, p=1,metric='manhattan',weights= 'uniform')\n",
        "\n",
        "#Training the model.\n",
        "model3 = knn3.fit(X1_train, y1_train)\n",
        "\n",
        "#Predict test data set.\n",
        "y1_pred = model3.predict(X1_test)\n",
        "\n",
        "#Checking performance our model with skitlearn metrics.\n",
        "from sklearn.metrics import confusion_matrix, classification_report,roc_auc_score,accuracy_score\n",
        "print('Confusion Matrix')\n",
        "print(confusion_matrix(y1_test, y1_pred))\n",
        "print('\\n')\n",
        "print('Classification Report')\n",
        "print(classification_report(y1_test, y1_pred))\n",
        "print('\\n')\n",
        "print('accuracy_score= ',accuracy_score(y1_test, y1_pred))\n",
        "print('ROC Score= ',roc_auc_score(y1_test, y1_pred))"
      ],
      "execution_count": 57,
      "outputs": [
        {
          "output_type": "stream",
          "text": [
            "Confusion Matrix\n",
            "[[52  8]\n",
            " [ 8 21]]\n",
            "\n",
            "\n",
            "Classification Report\n",
            "              precision    recall  f1-score   support\n",
            "\n",
            "           0       0.87      0.87      0.87        60\n",
            "           1       0.72      0.72      0.72        29\n",
            "\n",
            "    accuracy                           0.82        89\n",
            "   macro avg       0.80      0.80      0.80        89\n",
            "weighted avg       0.82      0.82      0.82        89\n",
            "\n",
            "\n",
            "\n",
            "accuracy_score=  0.8202247191011236\n",
            "ROC Score=  0.7954022988505747\n"
          ],
          "name": "stdout"
        }
      ]
    },
    {
      "cell_type": "markdown",
      "metadata": {
        "id": "N7zHlT4l-_f3"
      },
      "source": [
        "The 90-10 split gives a worse Accuracy score(82.02< 82.16) but a slightly better ROC score than 80-20 (79.54>79.39). So theres is little difference in both models. 16 data points are misclassified. "
      ]
    },
    {
      "cell_type": "markdown",
      "metadata": {
        "id": "54hBxYUNKZg1"
      },
      "source": [
        "70-30 Ratio"
      ]
    },
    {
      "cell_type": "code",
      "metadata": {
        "id": "4Lu_wEmTKbJl",
        "outputId": "fa0424bb-3d4e-42d5-a2bd-182fe6124a00",
        "colab": {
          "base_uri": "https://localhost:8080/"
        }
      },
      "source": [
        "# Train using 70% of the data.\n",
        "from sklearn.model_selection import train_test_split\n",
        "X2_train, X2_test, y2_train, y2_test = train_test_split(X, y, test_size=0.3, random_state=0)\n",
        "X2_train.shape, y2_train.shape"
      ],
      "execution_count": 58,
      "outputs": [
        {
          "output_type": "execute_result",
          "data": {
            "text/plain": [
              "((620, 7), (620,))"
            ]
          },
          "metadata": {
            "tags": []
          },
          "execution_count": 58
        }
      ]
    },
    {
      "cell_type": "code",
      "metadata": {
        "id": "lRAxSNTpKv2N",
        "outputId": "b31c746a-85f1-49d5-8c8a-327066ed6778",
        "colab": {
          "base_uri": "https://localhost:8080/"
        }
      },
      "source": [
        "knn4 = KNeighborsClassifier(leaf_size=12, n_neighbors=12, p=1,metric='manhattan',weights= 'uniform')\n",
        "\n",
        "#Training the model.\n",
        "model4= knn4.fit(X2_train, y2_train)\n",
        "\n",
        "#Predict test data set.\n",
        "y2_pred = model4.predict(X2_test)\n",
        "\n",
        "#Checking performance our model with skitlearn metrics.\n",
        "from sklearn.metrics import confusion_matrix, classification_report,roc_auc_score,accuracy_score\n",
        "print('Confusion Matrix')\n",
        "print(confusion_matrix(y2_test, y2_pred))\n",
        "print('\\n')\n",
        "print('Classification Report')\n",
        "print(classification_report(y2_test, y2_pred))\n",
        "print('\\n')\n",
        "print('accuracy_score= ',accuracy_score(y2_test, y2_pred))\n",
        "print('ROC Score= ',roc_auc_score(y2_test, y2_pred))"
      ],
      "execution_count": 59,
      "outputs": [
        {
          "output_type": "stream",
          "text": [
            "Confusion Matrix\n",
            "[[153  15]\n",
            " [ 31  67]]\n",
            "\n",
            "\n",
            "Classification Report\n",
            "              precision    recall  f1-score   support\n",
            "\n",
            "           0       0.83      0.91      0.87       168\n",
            "           1       0.82      0.68      0.74        98\n",
            "\n",
            "    accuracy                           0.83       266\n",
            "   macro avg       0.82      0.80      0.81       266\n",
            "weighted avg       0.83      0.83      0.82       266\n",
            "\n",
            "\n",
            "\n",
            "accuracy_score=  0.8270676691729323\n",
            "ROC Score=  0.7971938775510203\n"
          ],
          "name": "stdout"
        }
      ]
    },
    {
      "cell_type": "markdown",
      "metadata": {
        "id": "i8KieXjh-p9M"
      },
      "source": [
        "We have an higher accuracy score 82.706 and ROC score (79.72) than 80-20 and the 90-30 split. Therefore it gives a better model. 46 data points are misclassified."
      ]
    },
    {
      "cell_type": "markdown",
      "metadata": {
        "id": "YyubmJZpLNLy"
      },
      "source": [
        "60-40 Ratio"
      ]
    },
    {
      "cell_type": "code",
      "metadata": {
        "id": "QVI3_HLCLMI2",
        "outputId": "068dcac3-51fc-4a1c-8ad6-15c3f6b460e6",
        "colab": {
          "base_uri": "https://localhost:8080/"
        }
      },
      "source": [
        "# Train using 60% of the data.\n",
        "from sklearn.model_selection import train_test_split\n",
        "X3_train, X3_test, y3_train, y3_test = train_test_split(X, y, test_size=0.4, random_state=0)\n",
        "X3_train.shape, y3_train.shape"
      ],
      "execution_count": 60,
      "outputs": [
        {
          "output_type": "execute_result",
          "data": {
            "text/plain": [
              "((531, 7), (531,))"
            ]
          },
          "metadata": {
            "tags": []
          },
          "execution_count": 60
        }
      ]
    },
    {
      "cell_type": "code",
      "metadata": {
        "id": "wGRQr619L0hO",
        "outputId": "9b1e010e-617b-4f78-cecc-8733cdf8d8a6",
        "colab": {
          "base_uri": "https://localhost:8080/"
        }
      },
      "source": [
        "knn5 = KNeighborsClassifier(leaf_size=12, n_neighbors=12, p=1,metric='manhattan',weights= 'uniform')\n",
        "\n",
        "#Training the model.\n",
        "model5= knn5.fit(X3_train, y3_train)\n",
        "\n",
        "#Predict test data set.\n",
        "y3_pred = model4.predict(X3_test)\n",
        "\n",
        "#Checking performance our model with skitlearn metrics.\n",
        "from sklearn.metrics import confusion_matrix, classification_report,roc_auc_score,accuracy_score\n",
        "print('Confusion Matrix')\n",
        "print(confusion_matrix(y3_test, y3_pred))\n",
        "print('\\n')\n",
        "print('Classification Report')\n",
        "print(classification_report(y3_test, y3_pred))\n",
        "print('\\n')\n",
        "print('accuracy_score= ',accuracy_score(y3_test, y3_pred))\n",
        "print('ROC Score= ',roc_auc_score(y3_test, y3_pred))"
      ],
      "execution_count": 61,
      "outputs": [
        {
          "output_type": "stream",
          "text": [
            "Confusion Matrix\n",
            "[[212  16]\n",
            " [ 42  85]]\n",
            "\n",
            "\n",
            "Classification Report\n",
            "              precision    recall  f1-score   support\n",
            "\n",
            "           0       0.83      0.93      0.88       228\n",
            "           1       0.84      0.67      0.75       127\n",
            "\n",
            "    accuracy                           0.84       355\n",
            "   macro avg       0.84      0.80      0.81       355\n",
            "weighted avg       0.84      0.84      0.83       355\n",
            "\n",
            "\n",
            "\n",
            "accuracy_score=  0.8366197183098592\n",
            "ROC Score=  0.799557949993093\n"
          ],
          "name": "stdout"
        }
      ]
    },
    {
      "cell_type": "markdown",
      "metadata": {
        "id": "Au6bL7Qt7O78"
      },
      "source": [
        "60-40 gives us a higher accuracy score 83.66 and ROC score (79.95) than any other test split model. Therefore it gives a best model.\n",
        "\n"
      ]
    },
    {
      "cell_type": "markdown",
      "metadata": {
        "id": "7RmvaHpiypCb"
      },
      "source": [
        "## Conclusion\n",
        "\n",
        "\n",
        "The model that best classifies passengers who survived from those who didn't is when hyperparameters are tuned as follows:\n",
        "- leaf_size=12, \n",
        "- n_neighbors=12, \n",
        "- p=1,\n",
        "- metric= manhattan,\n",
        "- weights= uniform\n",
        "\n",
        "and with a 60-40 split.\n",
        "\n",
        "Also, data needs to be scaled\n"
      ]
    }
  ]
}